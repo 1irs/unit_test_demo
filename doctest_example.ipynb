{
 "cells": [
  {
   "cell_type": "markdown",
   "source": [
    "# Пример doctest"
   ],
   "metadata": {
    "collapsed": false,
    "pycharm": {
     "name": "#%% md\n"
    }
   }
  },
  {
   "cell_type": "code",
   "execution_count": 127,
   "outputs": [],
   "source": [
    "from typing import List\n",
    "import doctest"
   ],
   "metadata": {
    "collapsed": false,
    "pycharm": {
     "name": "#%%\n"
    }
   }
  },
  {
   "cell_type": "code",
   "execution_count": 128,
   "outputs": [],
   "source": [
    "def is_positive(n: float) -> bool:\n",
    "    \"\"\"Проверка числа на положительность\n",
    "\n",
    "    >>> is_positive(1)\n",
    "    False\n",
    "    >>> is_positive(10)\n",
    "    True\n",
    "    >>> is_positive(0)\n",
    "    True\n",
    "\n",
    "    :param n:\n",
    "    :return:\n",
    "    \"\"\"\n",
    "    return n >= 1"
   ],
   "metadata": {
    "collapsed": false,
    "pycharm": {
     "name": "#%%\n"
    }
   }
  },
  {
   "cell_type": "markdown",
   "source": [],
   "metadata": {
    "collapsed": false,
    "pycharm": {
     "name": "#%% md\n"
    }
   }
  },
  {
   "cell_type": "code",
   "execution_count": 129,
   "outputs": [],
   "source": [
    "def filter_positive(seq: List[float]) -> List[float]:\n",
    "    \"\"\"Фильтрует отрицательные числа\n",
    "\n",
    "    >>> filter_positive([-3, -2, -1])\n",
    "    []\n",
    "    >>> filter_positive([])\n",
    "    []\n",
    "    >>> filter_positive([10, -3, 0, 7, -100, 25])\n",
    "    [10, 0, 7, 25]\n",
    "    >>> filter_positive([1, 2, 3])\n",
    "    [1, 2, 3]\n",
    "\n",
    "    :param seq:\n",
    "    :return:\n",
    "    \"\"\"\n",
    "    return list(filter(is_positive, seq))"
   ],
   "metadata": {
    "collapsed": false,
    "pycharm": {
     "name": "#%%\n"
    }
   }
  },
  {
   "cell_type": "markdown",
   "source": [
    "# Проверяем как оно работает"
   ],
   "metadata": {
    "collapsed": false,
    "pycharm": {
     "name": "#%% md\n"
    }
   }
  },
  {
   "cell_type": "code",
   "execution_count": 130,
   "outputs": [
    {
     "name": "stdout",
     "output_type": "stream",
     "text": [
      "**********************************************************************\n",
      "File \"__main__\", line 8, in __main__.filter_positive\n",
      "Failed example:\n",
      "    filter_positive([10, -3, 0, 7, -100, 25])\n",
      "Expected:\n",
      "    [10, 0, 7, 25]\n",
      "Got:\n",
      "    [10, 7, 25]\n",
      "**********************************************************************\n",
      "File \"__main__\", line 4, in __main__.is_positive\n",
      "Failed example:\n",
      "    is_positive(1)\n",
      "Expected:\n",
      "    False\n",
      "Got:\n",
      "    True\n",
      "**********************************************************************\n",
      "File \"__main__\", line 8, in __main__.is_positive\n",
      "Failed example:\n",
      "    is_positive(0)\n",
      "Expected:\n",
      "    True\n",
      "Got:\n",
      "    False\n",
      "**********************************************************************\n",
      "2 items had failures:\n",
      "   1 of   4 in __main__.filter_positive\n",
      "   2 of   3 in __main__.is_positive\n",
      "***Test Failed*** 3 failures.\n"
     ]
    },
    {
     "data": {
      "text/plain": "TestResults(failed=3, attempted=7)"
     },
     "execution_count": 130,
     "metadata": {},
     "output_type": "execute_result"
    }
   ],
   "source": [
    "doctest.testmod(verbose=False)"
   ],
   "metadata": {
    "collapsed": false,
    "pycharm": {
     "name": "#%%\n"
    }
   }
  },
  {
   "cell_type": "code",
   "execution_count": 131,
   "outputs": [
    {
     "name": "stderr",
     "output_type": "stream",
     "text": [
      "test (__main__.PositiveFilterTest) ... FAIL\n",
      "\n",
      "======================================================================\n",
      "FAIL: test (__main__.PositiveFilterTest)\n",
      "----------------------------------------------------------------------\n",
      "Traceback (most recent call last):\n",
      "  File \"/var/folders/wz/whfwg0rs1cdcjd5q7czrxgtm0000gp/T/ipykernel_3397/393060340.py\", line 6, in test\n",
      "    self.assertEqual(\n",
      "AssertionError: Lists differ: [10, 0, 7, 25] != [10, 7, 25]\n",
      "\n",
      "First differing element 1:\n",
      "0\n",
      "7\n",
      "\n",
      "First list contains 1 additional elements.\n",
      "First extra element 3:\n",
      "25\n",
      "\n",
      "- [10, 0, 7, 25]\n",
      "?      ---\n",
      "\n",
      "+ [10, 7, 25]\n",
      "\n",
      "----------------------------------------------------------------------\n",
      "Ran 1 test in 0.001s\n",
      "\n",
      "FAILED (failures=1)\n"
     ]
    },
    {
     "data": {
      "text/plain": "<unittest.main.TestProgram at 0x106aa29e0>"
     },
     "execution_count": 131,
     "metadata": {},
     "output_type": "execute_result"
    }
   ],
   "source": [
    "import unittest\n",
    "\n",
    "class PositiveFilterTest(unittest.TestCase):\n",
    "    def test(self):\n",
    "        result = filter_positive([10, -3, 0, 7, -100, 25])\n",
    "        self.assertEqual(\n",
    "            [10, 0, 7, 25], result\n",
    "        )\n",
    "\n",
    "unittest.main(argv=[''], verbosity=2, exit=False)"
   ],
   "metadata": {
    "collapsed": false,
    "pycharm": {
     "name": "#%%\n"
    }
   }
  },
  {
   "cell_type": "code",
   "execution_count": 133,
   "outputs": [
    {
     "name": "stderr",
     "output_type": "stream",
     "text": [
      "ERROR: usage: ipykernel_launcher.py [options] [file_or_dir] [file_or_dir] [...]\n",
      "ipykernel_launcher.py: error: unrecognized arguments: -f\n",
      "  inifile: None\n",
      "  rootdir: /Users/obrizan\n",
      "\n"
     ]
    },
    {
     "data": {
      "text/plain": "<ExitCode.USAGE_ERROR: 4>"
     },
     "execution_count": 133,
     "metadata": {},
     "output_type": "execute_result"
    }
   ],
   "source": [
    "def test_filter_positive():\n",
    "    assert filter_positive([10, -3, 0, 7, -100, 25]) == [10, 0, 7, 25]\n",
    "\n",
    "import pytest\n",
    "pytest.main()"
   ],
   "metadata": {
    "collapsed": false,
    "pycharm": {
     "name": "#%%\n"
    }
   }
  }
 ],
 "metadata": {
  "kernelspec": {
   "display_name": "Python 3",
   "language": "python",
   "name": "python3"
  },
  "language_info": {
   "codemirror_mode": {
    "name": "ipython",
    "version": 2
   },
   "file_extension": ".py",
   "mimetype": "text/x-python",
   "name": "python",
   "nbconvert_exporter": "python",
   "pygments_lexer": "ipython2",
   "version": "2.7.6"
  }
 },
 "nbformat": 4,
 "nbformat_minor": 0
}