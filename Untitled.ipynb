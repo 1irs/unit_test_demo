{
 "cells": [
  {
   "cell_type": "markdown",
   "id": "aab9875b",
   "metadata": {
    "pycharm": {
     "name": "#%% md\n"
    }
   },
   "source": [
    "# Пример доктестов"
   ]
  },
  {
   "cell_type": "code",
   "execution_count": 2,
   "id": "8723ef87",
   "metadata": {
    "pycharm": {
     "name": "#%%\n"
    }
   },
   "outputs": [],
   "source": [
    "from typing import List\n",
    "import doctest"
   ]
  },
  {
   "cell_type": "code",
   "execution_count": 3,
   "id": "6e0933a5",
   "metadata": {
    "pycharm": {
     "name": "#%%\n"
    }
   },
   "outputs": [],
   "source": [
    "def is_positive(n: float) -> bool:\n",
    "    \"\"\"Check if number is positive\n",
    "    \n",
    "    >>> is_positive(-2)\n",
    "    False\n",
    "    >>> is_positive(-0.1)\n",
    "    False\n",
    "    >>> is_positive(0)\n",
    "    True\n",
    "    >>> is_positive(0.1)\n",
    "    True\n",
    "    \n",
    "    \"\"\"\n",
    "    return n >= 0"
   ]
  },
  {
   "cell_type": "code",
   "execution_count": 4,
   "id": "01f328b3",
   "metadata": {
    "pycharm": {
     "name": "#%%\n"
    }
   },
   "outputs": [],
   "source": [
    "def filter_only_positive(numbers: List[float]) -> List[float]:\n",
    "    \"\"\"Return a list with positive numbers only\n",
    "    \n",
    "    \n",
    "    >>> filter_only_positive([])\n",
    "    []\n",
    "    >>> filter_only_positive([1, 2, 3])\n",
    "    [1, 2, 3]\n",
    "    \"\"\"\n",
    "    return list(filter(is_positive, numbers))"
   ]
  },
  {
   "cell_type": "code",
   "execution_count": 5,
   "id": "afa511c5",
   "metadata": {
    "pycharm": {
     "name": "#%%\n"
    }
   },
   "outputs": [
    {
     "data": {
      "text/plain": "[]"
     },
     "execution_count": 5,
     "metadata": {},
     "output_type": "execute_result"
    }
   ],
   "source": [
    "ex1 = []\n",
    "filter_only_positive(ex1)"
   ]
  },
  {
   "cell_type": "code",
   "execution_count": 6,
   "id": "5d4e6f30",
   "metadata": {
    "pycharm": {
     "name": "#%%\n"
    }
   },
   "outputs": [
    {
     "data": {
      "text/plain": "[1, 2, 3]"
     },
     "execution_count": 6,
     "metadata": {},
     "output_type": "execute_result"
    }
   ],
   "source": [
    "ex2 = [1, 2, 3]\n",
    "filter_only_positive(ex2)"
   ]
  },
  {
   "cell_type": "code",
   "execution_count": 7,
   "id": "88749913",
   "metadata": {
    "pycharm": {
     "name": "#%%\n"
    }
   },
   "outputs": [
    {
     "data": {
      "text/plain": "[0, 1, 2]"
     },
     "execution_count": 7,
     "metadata": {},
     "output_type": "execute_result"
    }
   ],
   "source": [
    "ex3 = [-2, -1, 0, 1, 2]\n",
    "filter_only_positive(ex3)"
   ]
  },
  {
   "cell_type": "code",
   "execution_count": 8,
   "id": "5f7d2d6e",
   "metadata": {
    "pycharm": {
     "name": "#%%\n"
    }
   },
   "outputs": [
    {
     "data": {
      "text/plain": "[3, 17]"
     },
     "execution_count": 8,
     "metadata": {},
     "output_type": "execute_result"
    }
   ],
   "source": [
    "ex4 = [-10, 3, -5, 17]\n",
    "filter_only_positive(ex4)"
   ]
  },
  {
   "cell_type": "code",
   "execution_count": 9,
   "id": "c932cace",
   "metadata": {
    "pycharm": {
     "name": "#%%\n"
    }
   },
   "outputs": [
    {
     "data": {
      "text/plain": "TestResults(failed=0, attempted=6)"
     },
     "execution_count": 9,
     "metadata": {},
     "output_type": "execute_result"
    }
   ],
   "source": [
    "doctest.testmod(verbose=False)"
   ]
  },
  {
   "cell_type": "code",
   "execution_count": 9,
   "id": "e5073340",
   "metadata": {
    "pycharm": {
     "name": "#%%\n"
    }
   },
   "outputs": [],
   "source": []
  }
 ],
 "metadata": {
  "kernelspec": {
   "display_name": "Python 3 (ipykernel)",
   "language": "python",
   "name": "python3"
  },
  "language_info": {
   "codemirror_mode": {
    "name": "ipython",
    "version": 3
   },
   "file_extension": ".py",
   "mimetype": "text/x-python",
   "name": "python",
   "nbconvert_exporter": "python",
   "pygments_lexer": "ipython3",
   "version": "3.10.1"
  }
 },
 "nbformat": 4,
 "nbformat_minor": 5
}